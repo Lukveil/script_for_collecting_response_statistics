{
 "cells": [
  {
   "cell_type": "code",
   "execution_count": null,
   "metadata": {},
   "outputs": [],
   "source": [
    "import psycopg2 \n",
    "import matplotlib.pyplot as plt \n",
    "import numpy as np \n",
    "from dotenv import load_dotenv \n",
    "import os \n",
    "from dotenv import load_dotenv "
   ]
  },
  {
   "cell_type": "markdown",
   "metadata": {},
   "source": [
    "# Загружаем переменные окружения из файла .env "
   ]
  },
  {
   "cell_type": "code",
   "execution_count": null,
   "metadata": {},
   "outputs": [],
   "source": [
    "load_dotenv() "
   ]
  },
  {
   "cell_type": "markdown",
   "metadata": {},
   "source": [
    "# Переменные окружения"
   ]
  },
  {
   "cell_type": "code",
   "execution_count": null,
   "metadata": {},
   "outputs": [],
   "source": [
    "db_name = os.getenv(\"DB_NAME\") \n",
    "db_user = os.getenv(\"DB_USER\") \n",
    "db_password = os.getenv(\"DB_PASSWORD\") \n",
    "db_host = os.getenv(\"DB_HOST\") \n",
    "db_port = int(os.getenv(\"DB_PORT\")) "
   ]
  },
  {
   "cell_type": "markdown",
   "metadata": {},
   "source": [
    "# Подключение к базе данных "
   ]
  },
  {
   "cell_type": "code",
   "execution_count": null,
   "metadata": {},
   "outputs": [],
   "source": [
    "conn = psycopg2.connect( \n",
    "    dbname=db_name,       # Имя базы данных \n",
    "    user=db_user,         # Имя пользователя \n",
    "    password=db_password, # Пароль \n",
    "    host=db_host,         # Хост (по умолчанию localhost) \n",
    "    port=db_port          # Порт (по умолчанию 5432) \n",
    ")\n",
    "# Создание курсора для выполнения запросов \n",
    "cur = conn.cursor() \n",
    "start_t:str = \"2025-02-11 10:06:00\" \n",
    "end_t:str = \"2025-02-11 22:55:00\" \n",
    "# Выполнение SQL-запроса \n",
    "cur.execute(f\"\"\"WITH t1 AS (  \n",
    "    SELECT * \n",
    "    FROM fssp_ms_gateway.remote_message \n",
    "    WHERE type = 'RESPONSE' \n",
    "      AND created > '{start_t}' \n",
    "      AND created < '{end_t}' \n",
    "), \n",
    "time_diffs AS ( \n",
    "    SELECT t1.oper_uid, \n",
    "           t1.type, \n",
    "           t2.created AS request_created, \n",
    "           t1.created AS response_created, \n",
    "           EXTRACT(EPOCH FROM (t1.created - t2.created)) / 60 AS delta_minutes \n",
    "    FROM t1 \n",
    "    JOIN fssp_ms_gateway.remote_message t2 ON t1.oper_uid = t2.oper_uid \n",
    "    WHERE t2.type = 'REQUEST' \n",
    ") \n",
    "SELECT FLOOR(delta_minutes / 10) * 10 AS interval_start, \n",
    "       (FLOOR(delta_minutes / 10) + 1) * 10 AS interval_end, \n",
    "       COUNT(*) AS count_requests \n",
    "FROM time_diffs \n",
    "GROUP BY FLOOR(delta_minutes / 10) \n",
    "ORDER BY interval_start DESC;\"\"\") "
   ]
  },
  {
   "cell_type": "markdown",
   "metadata": {},
   "source": [
    "# Получение всех результатов "
   ]
  },
  {
   "cell_type": "code",
   "execution_count": null,
   "metadata": {},
   "outputs": [],
   "source": [
    "rows = cur.fetchall()"
   ]
  },
  {
   "cell_type": "markdown",
   "metadata": {},
   "source": [
    "# Закрытие соединения с базой данных "
   ]
  },
  {
   "cell_type": "code",
   "execution_count": null,
   "metadata": {},
   "outputs": [],
   "source": [
    "cur.close() \n",
    "conn.close()"
   ]
  },
  {
   "cell_type": "markdown",
   "metadata": {},
   "source": [
    "# Преобразуем в numpy для скорости"
   ]
  },
  {
   "cell_type": "code",
   "execution_count": null,
   "metadata": {},
   "outputs": [],
   "source": [
    "array = np.array(rows)"
   ]
  },
  {
   "cell_type": "markdown",
   "metadata": {},
   "source": [
    "# Строим график"
   ]
  },
  {
   "cell_type": "code",
   "execution_count": null,
   "metadata": {},
   "outputs": [],
   "source": [
    "fig = plt.figure(dpi=400) \n",
    " \n",
    "# Изменяем её размеры \n",
    "fig.set_size_inches(24, 18) \n",
    " \n",
    "plt.bar([f\"{x}_{y}\" for x, y in zip(array[:, 0].astype(str), array[:, 1].astype(str))], array[:, 2]) \n",
    "# To show the plot \n",
    "# Задаем подписи для осей \n",
    "plt.ylabel('Кол-во сообщений в этом промежутке') \n",
    "plt.xlabel('Интервал') \n",
    "plt.xticks(rotation = 90) \n",
    "plt.show() "
   ]
  },
  {
   "cell_type": "code",
   "execution_count": null,
   "metadata": {},
   "outputs": [],
   "source": [
    "get_ipython().system('python -V')"
   ]
  }
 ],
 "metadata": {
  "kernelspec": {
   "display_name": "ML_classic",
   "language": "python",
   "name": "python3"
  },
  "language_info": {
   "codemirror_mode": {
    "name": "ipython",
    "version": 3
   },
   "file_extension": ".py",
   "mimetype": "text/x-python",
   "name": "python",
   "nbconvert_exporter": "python",
   "pygments_lexer": "ipython3",
   "version": "3.12.5"
  }
 },
 "nbformat": 4,
 "nbformat_minor": 2
}
